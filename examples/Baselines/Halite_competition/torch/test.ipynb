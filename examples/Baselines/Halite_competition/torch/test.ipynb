{
 "cells": [
  {
   "cell_type": "code",
   "execution_count": null,
   "metadata": {
    "collapsed": true
   },
   "outputs": [],
   "source": [
    "import os\n",
    "os.environ['PARL_BACKEND'] = 'torch'\n",
    "\n",
    "from rl_trainer.controller import Controller\n",
    "from zerosum_env import make, evaluate\n",
    "from zerosum_env.envs.halite.helpers import *\n",
    "\n",
    "\n",
    "# function for testing agent\n",
    "def take_action(observation, configuration):\n",
    "    board = Board(observation, configuration)\n",
    "    action = player.take_action(board, \"predict\")\n",
    "    return action\n"
   ]
  },
  {
   "cell_type": "code",
   "execution_count": null,
   "metadata": {},
   "outputs": [],
   "source": [
    "\n",
    "player = Controller()\n",
    "player.restore('./model/latest_ship_model.pth')\n",
    "\n",
    "env = make(\"halite\", configuration={\"episodeSteps\":300, \"randomSeed\":123456})\n",
    "env.reset(2)\n",
    "\n",
    "player.prepare_test()\n",
    "info = env.run([take_action, \"random\"])\n",
    "\n",
    "env.render(mode=\"ipython\", width=800, height=500)"
   ]
  }
 ],
 "metadata": {
  "kernelspec": {
   "display_name": "Python [conda env:halite]",
   "language": "python",
   "name": "conda-env-halite-py"
  },
  "language_info": {
   "codemirror_mode": {
    "name": "ipython",
    "version": 3
   },
   "file_extension": ".py",
   "mimetype": "text/x-python",
   "name": "python",
   "nbconvert_exporter": "python",
   "pygments_lexer": "ipython3",
   "version": "3.6.13"
  }
 },
 "nbformat": 4,
 "nbformat_minor": 2
}
